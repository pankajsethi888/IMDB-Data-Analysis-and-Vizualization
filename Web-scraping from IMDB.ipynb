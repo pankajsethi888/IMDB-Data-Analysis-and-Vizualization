{
 "cells": [
  {
   "cell_type": "markdown",
   "metadata": {},
   "source": [
    "### Import Libraires"
   ]
  },
  {
   "cell_type": "code",
   "execution_count": 1,
   "metadata": {},
   "outputs": [],
   "source": [
    "from bs4 import BeautifulSoup\n",
    "import requests\n",
    "import re\n",
    "import matplotlib.pyplot as plt\n",
    "import json\n",
    "import datetime\n",
    "\n",
    "%matplotlib inline"
   ]
  },
  {
   "cell_type": "markdown",
   "metadata": {},
   "source": [
    "# Retrieve the HTML source code of Target page"
   ]
  },
  {
   "cell_type": "code",
   "execution_count": 2,
   "metadata": {},
   "outputs": [],
   "source": [
    "# Download IMDB's Top 250 movies data\n",
    "url = 'http://www.imdb.com/chart/top'\n",
    "response = requests.get(url)\n",
    "soup = BeautifulSoup(response.text, 'lxml')"
   ]
  },
  {
   "cell_type": "code",
   "execution_count": 3,
   "metadata": {},
   "outputs": [],
   "source": [
    "movies = soup.select('td.titleColumn')\n",
    "links = [a.attrs.get('href') for a in soup.select('td.titleColumn a')]\n",
    "ratings = [r.attrs.get('data-value') for r in soup.select('td.posterColumn span[name=ir]')]\n",
    "votes = [r.attrs.get('data-value') for r in soup.select('td.posterColumn span[name=nv]')]      #td.ratingColumn strongb"
   ]
  },
  {
   "cell_type": "markdown",
   "metadata": {},
   "source": [
    "## Extract all the JSON objects from their links"
   ]
  },
  {
   "cell_type": "code",
   "execution_count": 4,
   "metadata": {},
   "outputs": [
    {
     "name": "stdout",
     "output_type": "stream",
     "text": [
      "No. of Retrieved Movies: 25\n",
      "No. of Retrieved Movies: 50\n",
      "No. of Retrieved Movies: 75\n",
      "No. of Retrieved Movies: 100\n",
      "No. of Retrieved Movies: 125\n",
      "No. of Retrieved Movies: 150\n",
      "No. of Retrieved Movies: 175\n",
      "No. of Retrieved Movies: 200\n",
      "No. of Retrieved Movies: 225\n",
      "No. of Retrieved Movies: 250\n",
      "Retrieved All Movies!!!\n"
     ]
    }
   ],
   "source": [
    "base_url = 'http://www.imdb.com'\n",
    "details = []             # List containing all the JSON objects of 250 movies site\n",
    "\n",
    "for i, mvi in enumerate(movies):\n",
    "    if (i+1)%25 == 0:\n",
    "        print(\"No. of Retrieved Movies: {}\".format(i+1))\n",
    "    \n",
    "    mv_url = base_url + links[i]\n",
    "    response = requests.get(mv_url)\n",
    "    soup = BeautifulSoup(response.text, 'lxml')           # Parsed HTML code\n",
    "    json_obj = json.loads(soup.select('script[type=\"application/ld+json\"]')[0].contents[0])  # JSON Object\n",
    "    details.append(json_obj)\n",
    "\n",
    "print(\"Retrieved All Movies!!!\")"
   ]
  },
  {
   "cell_type": "code",
   "execution_count": 5,
   "metadata": {},
   "outputs": [],
   "source": [
    "def genre_input(genre):\n",
    "    if type(genre) is list:\n",
    "        return ', '.join(genre)\n",
    "    return genre"
   ]
  },
  {
   "cell_type": "code",
   "execution_count": 6,
   "metadata": {},
   "outputs": [],
   "source": [
    "def content_rating(cntRt):\n",
    "    if cntRt is None:\n",
    "        return 'Not Rated'    # If in case the result is missing or None. Here there are 2 such instances.\n",
    "    return cntRt"
   ]
  },
  {
   "cell_type": "code",
   "execution_count": 7,
   "metadata": {},
   "outputs": [],
   "source": [
    "def director_input(dirc):\n",
    "    if type(dirc) is list:\n",
    "        return ', '.join([d['name'] for d in dirc])     # 23 movies have multiple co-director\n",
    "    return dirc['name']"
   ]
  },
  {
   "cell_type": "markdown",
   "metadata": {},
   "source": [
    "# Produce list of Dictionary containg movies details"
   ]
  },
  {
   "cell_type": "code",
   "execution_count": 8,
   "metadata": {},
   "outputs": [],
   "source": [
    "imdb = []\n",
    "\n",
    "# Store each item into dictionary (data), then put those into a list (imdb)\n",
    "for i, dt in enumerate(details):\n",
    "\n",
    "    movie_title = dt['name']\n",
    "    directors = director_input(dt['director'])\n",
    "    place = i+1\n",
    "    try:\n",
    "        contRate = dt['contentRating']\n",
    "    except:\n",
    "        contRate = 'Not Rated'\n",
    "    genres = genre_input(dt['genre'])\n",
    "    key_words = dt['keywords']\n",
    "    release_date = dt['datePublished']\n",
    "    data = {\"movie_title\": movie_title,\n",
    "            \"release_date\": release_date,\n",
    "            \"place\": place,\n",
    "            \"director\": directors,\n",
    "            \"rating\": ratings[i],\n",
    "            \"genre\": genres,\n",
    "            \"key_words\": key_words,\n",
    "            \"contRate\": contRate,\n",
    "            \"vote\": votes[i]}\n",
    "    imdb.append(data)\n",
    "    "
   ]
  },
  {
   "cell_type": "markdown",
   "metadata": {},
   "source": [
    "# Using \"csv\" convert the lsit of dictionary into CSV files"
   ]
  },
  {
   "cell_type": "code",
   "execution_count": 9,
   "metadata": {},
   "outputs": [],
   "source": [
    "import csv\n",
    "\n",
    "headers = ['movie_title','release_date','place','contRate','director','rating','vote','key_words','genre']\n",
    "    \n",
    "with open('imdbTop250.csv', 'w', encoding='utf-8') as csvfile: \n",
    "    writer = csv.DictWriter(csvfile, fieldnames = headers) \n",
    "    writer.writeheader() \n",
    "    writer.writerows(imdb) "
   ]
  },
  {
   "cell_type": "code",
   "execution_count": 10,
   "metadata": {},
   "outputs": [],
   "source": [
    "import pandas as pd\n",
    "import numpy as np\n",
    "\n",
    "df = pd.read_csv('imdbTop250.csv')"
   ]
  },
  {
   "cell_type": "code",
   "execution_count": 11,
   "metadata": {},
   "outputs": [
    {
     "data": {
      "text/html": [
       "<div>\n",
       "<style scoped>\n",
       "    .dataframe tbody tr th:only-of-type {\n",
       "        vertical-align: middle;\n",
       "    }\n",
       "\n",
       "    .dataframe tbody tr th {\n",
       "        vertical-align: top;\n",
       "    }\n",
       "\n",
       "    .dataframe thead th {\n",
       "        text-align: right;\n",
       "    }\n",
       "</style>\n",
       "<table border=\"1\" class=\"dataframe\">\n",
       "  <thead>\n",
       "    <tr style=\"text-align: right;\">\n",
       "      <th></th>\n",
       "      <th>movie_title</th>\n",
       "      <th>release_date</th>\n",
       "      <th>place</th>\n",
       "      <th>contRate</th>\n",
       "      <th>director</th>\n",
       "      <th>rating</th>\n",
       "      <th>vote</th>\n",
       "      <th>key_words</th>\n",
       "      <th>genre</th>\n",
       "    </tr>\n",
       "  </thead>\n",
       "  <tbody>\n",
       "    <tr>\n",
       "      <th>0</th>\n",
       "      <td>The Shawshank Redemption</td>\n",
       "      <td>1994-09-23</td>\n",
       "      <td>1</td>\n",
       "      <td>R</td>\n",
       "      <td>Frank Darabont</td>\n",
       "      <td>9.222638</td>\n",
       "      <td>2274817</td>\n",
       "      <td>wrongful imprisonment,based on the works of st...</td>\n",
       "      <td>Drama</td>\n",
       "    </tr>\n",
       "    <tr>\n",
       "      <th>1</th>\n",
       "      <td>The Godfather</td>\n",
       "      <td>1972-03-24</td>\n",
       "      <td>2</td>\n",
       "      <td>R</td>\n",
       "      <td>Francis Ford Coppola</td>\n",
       "      <td>9.148955</td>\n",
       "      <td>1569410</td>\n",
       "      <td>crime family,mafia,patriarch,organized crime,r...</td>\n",
       "      <td>Crime, Drama</td>\n",
       "    </tr>\n",
       "    <tr>\n",
       "      <th>2</th>\n",
       "      <td>The Godfather: Part II</td>\n",
       "      <td>1974-12-18</td>\n",
       "      <td>3</td>\n",
       "      <td>R</td>\n",
       "      <td>Francis Ford Coppola</td>\n",
       "      <td>8.981311</td>\n",
       "      <td>1096561</td>\n",
       "      <td>revenge,corrupt politician,bloody body of chil...</td>\n",
       "      <td>Crime, Drama</td>\n",
       "    </tr>\n",
       "    <tr>\n",
       "      <th>3</th>\n",
       "      <td>The Dark Knight</td>\n",
       "      <td>2008-07-16</td>\n",
       "      <td>4</td>\n",
       "      <td>PG-13</td>\n",
       "      <td>Christopher Nolan</td>\n",
       "      <td>8.972545</td>\n",
       "      <td>2236932</td>\n",
       "      <td>dc comics,joker,psychopath,clown,criminal mast...</td>\n",
       "      <td>Action, Crime, Drama, Thriller</td>\n",
       "    </tr>\n",
       "    <tr>\n",
       "      <th>4</th>\n",
       "      <td>12 Angry Men</td>\n",
       "      <td>1957-04-10</td>\n",
       "      <td>5</td>\n",
       "      <td>Approved</td>\n",
       "      <td>Sidney Lumet</td>\n",
       "      <td>8.929457</td>\n",
       "      <td>666957</td>\n",
       "      <td>jury,dialogue driven,courtroom,single set prod...</td>\n",
       "      <td>Crime, Drama</td>\n",
       "    </tr>\n",
       "  </tbody>\n",
       "</table>\n",
       "</div>"
      ],
      "text/plain": [
       "                movie_title release_date  place  contRate  \\\n",
       "0  The Shawshank Redemption   1994-09-23      1         R   \n",
       "1             The Godfather   1972-03-24      2         R   \n",
       "2    The Godfather: Part II   1974-12-18      3         R   \n",
       "3           The Dark Knight   2008-07-16      4     PG-13   \n",
       "4              12 Angry Men   1957-04-10      5  Approved   \n",
       "\n",
       "               director    rating     vote  \\\n",
       "0        Frank Darabont  9.222638  2274817   \n",
       "1  Francis Ford Coppola  9.148955  1569410   \n",
       "2  Francis Ford Coppola  8.981311  1096561   \n",
       "3     Christopher Nolan  8.972545  2236932   \n",
       "4          Sidney Lumet  8.929457   666957   \n",
       "\n",
       "                                           key_words  \\\n",
       "0  wrongful imprisonment,based on the works of st...   \n",
       "1  crime family,mafia,patriarch,organized crime,r...   \n",
       "2  revenge,corrupt politician,bloody body of chil...   \n",
       "3  dc comics,joker,psychopath,clown,criminal mast...   \n",
       "4  jury,dialogue driven,courtroom,single set prod...   \n",
       "\n",
       "                            genre  \n",
       "0                           Drama  \n",
       "1                    Crime, Drama  \n",
       "2                    Crime, Drama  \n",
       "3  Action, Crime, Drama, Thriller  \n",
       "4                    Crime, Drama  "
      ]
     },
     "execution_count": 11,
     "metadata": {},
     "output_type": "execute_result"
    }
   ],
   "source": [
    "df.head()"
   ]
  },
  {
   "cell_type": "markdown",
   "metadata": {},
   "source": [
    "#### Function to compare date"
   ]
  },
  {
   "cell_type": "code",
   "execution_count": 12,
   "metadata": {},
   "outputs": [],
   "source": [
    "def date(date):\n",
    "    yy, mm, dd = [int(d) for d in date.split('-')]\n",
    "    return datetime.date(yy, mm, dd)"
   ]
  },
  {
   "cell_type": "code",
   "execution_count": 13,
   "metadata": {},
   "outputs": [],
   "source": [
    "yr = df.iloc[:,[1,5]]"
   ]
  },
  {
   "cell_type": "code",
   "execution_count": 14,
   "metadata": {
    "scrolled": true
   },
   "outputs": [],
   "source": [
    "yr = yr.sort_values('release_date')"
   ]
  },
  {
   "cell_type": "code",
   "execution_count": 15,
   "metadata": {},
   "outputs": [
    {
     "data": {
      "text/html": [
       "<div>\n",
       "<style scoped>\n",
       "    .dataframe tbody tr th:only-of-type {\n",
       "        vertical-align: middle;\n",
       "    }\n",
       "\n",
       "    .dataframe tbody tr th {\n",
       "        vertical-align: top;\n",
       "    }\n",
       "\n",
       "    .dataframe thead th {\n",
       "        text-align: right;\n",
       "    }\n",
       "</style>\n",
       "<table border=\"1\" class=\"dataframe\">\n",
       "  <thead>\n",
       "    <tr style=\"text-align: right;\">\n",
       "      <th></th>\n",
       "      <th>release_date</th>\n",
       "      <th>rating</th>\n",
       "    </tr>\n",
       "  </thead>\n",
       "  <tbody>\n",
       "    <tr>\n",
       "      <th>100</th>\n",
       "      <td>1921-02-06</td>\n",
       "      <td>8.246774</td>\n",
       "    </tr>\n",
       "    <tr>\n",
       "      <th>200</th>\n",
       "      <td>1924-05-11</td>\n",
       "      <td>8.070973</td>\n",
       "    </tr>\n",
       "    <tr>\n",
       "      <th>153</th>\n",
       "      <td>1925-07-13</td>\n",
       "      <td>8.130248</td>\n",
       "    </tr>\n",
       "    <tr>\n",
       "      <th>197</th>\n",
       "      <td>1927-01-02</td>\n",
       "      <td>8.072254</td>\n",
       "    </tr>\n",
       "    <tr>\n",
       "      <th>112</th>\n",
       "      <td>1927-02-06</td>\n",
       "      <td>8.231792</td>\n",
       "    </tr>\n",
       "  </tbody>\n",
       "</table>\n",
       "</div>"
      ],
      "text/plain": [
       "    release_date    rating\n",
       "100   1921-02-06  8.246774\n",
       "200   1924-05-11  8.070973\n",
       "153   1925-07-13  8.130248\n",
       "197   1927-01-02  8.072254\n",
       "112   1927-02-06  8.231792"
      ]
     },
     "execution_count": 15,
     "metadata": {},
     "output_type": "execute_result"
    }
   ],
   "source": [
    "yr.head()"
   ]
  },
  {
   "cell_type": "code",
   "execution_count": 16,
   "metadata": {},
   "outputs": [],
   "source": [
    "y, r = np.array(yr.iloc[:,0]), np.array(yr.iloc[:,1])"
   ]
  },
  {
   "cell_type": "code",
   "execution_count": 17,
   "metadata": {},
   "outputs": [],
   "source": [
    "yr_bar = {'1920s': 0,\n",
    "          '1930s': 0,\n",
    "          '1940s': 0,\n",
    "          '1950s': 0,\n",
    "          '1960s': 0,\n",
    "          '1970s': 0,\n",
    "          '1980s': 0,\n",
    "          '1990s': 0,\n",
    "          '2000s': 0,\n",
    "          '2010s': 0,\n",
    "          '2020s': 0}"
   ]
  },
  {
   "cell_type": "code",
   "execution_count": 18,
   "metadata": {},
   "outputs": [],
   "source": [
    "for i,j in zip(y, r):\n",
    "    if date(i) < datetime.date(1930,12,31): \n",
    "        yr_bar['1920s'] += 1\n",
    "    elif date(i) < datetime.date(1940,1,1):\n",
    "        yr_bar['1930s'] += 1\n",
    "    elif date(i) < datetime.date(1950,1,1):\n",
    "        yr_bar['1940s'] += 1\n",
    "    elif date(i) < datetime.date(1960,1,1):\n",
    "        yr_bar['1950s'] += 1\n",
    "    elif date(i) < datetime.date(1970,1,1):\n",
    "        yr_bar['1960s'] += 1\n",
    "    elif date(i) < datetime.date(1980,1,1):\n",
    "        yr_bar['1970s'] += 1\n",
    "    elif date(i) < datetime.date(1990,1,1):\n",
    "        yr_bar['1980s'] += 1\n",
    "    elif date(i) < datetime.date(2000,1,1):\n",
    "        yr_bar['1990s'] += 1\n",
    "    elif date(i) < datetime.date(2010,1,1):\n",
    "        yr_bar['2000s'] += 1\n",
    "    elif date(i) < datetime.date(2020,1,1):\n",
    "        yr_bar['2010s'] += 1\n",
    "    else :\n",
    "        yr_bar['2020s'] += 1"
   ]
  },
  {
   "cell_type": "markdown",
   "metadata": {},
   "source": [
    "## The Distribution of movies in Top 250 in Decads b/w 1920 - 2020"
   ]
  },
  {
   "cell_type": "code",
   "execution_count": 19,
   "metadata": {},
   "outputs": [
    {
     "data": {
      "image/png": "[encoded data removed]",
      "text/plain": [
       "<Figure size 432x288 with 1 Axes>"
      ]
     },
     "metadata": {
      "needs_background": "light"
     },
     "output_type": "display_data"
    }
   ],
   "source": [
    "fig = plt.figure()\n",
    "ax = fig.add_axes([0,0,2,1])\n",
    "decads = yr_bar.keys()\n",
    "movies = yr_bar.values()\n",
    "ax.bar(decads,movies)\n",
    "ax.grid(lw = '0.5')\n",
    "plt.show()"
   ]
  },
  {
   "cell_type": "code",
   "execution_count": 20,
   "metadata": {},
   "outputs": [
    {
     "data": {
      "text/plain": [
       "0          Frank Darabont\n",
       "1    Francis Ford Coppola\n",
       "2    Francis Ford Coppola\n",
       "3       Christopher Nolan\n",
       "4            Sidney Lumet\n",
       "Name: director, dtype: object"
      ]
     },
     "execution_count": 20,
     "metadata": {},
     "output_type": "execute_result"
    }
   ],
   "source": [
    "dirc = df.iloc[:,4]\n",
    "\n",
    "dirc.head()"
   ]
  },
  {
   "cell_type": "code",
   "execution_count": 21,
   "metadata": {},
   "outputs": [],
   "source": [
    "dirc = ', '.join(dirc)\n",
    "\n",
    "dirc = dirc.split(', ')     # Form a single list of directors"
   ]
  },
  {
   "cell_type": "code",
   "execution_count": 22,
   "metadata": {},
   "outputs": [],
   "source": [
    "director_data = {}\n",
    "\n",
    "for d in dirc:\n",
    "    try:\n",
    "        director_data[d] += 1\n",
    "    except:\n",
    "        director_data[d] = 1"
   ]
  },
  {
   "cell_type": "code",
   "execution_count": 23,
   "metadata": {},
   "outputs": [],
   "source": [
    "labels = []\n",
    "vals = []\n",
    "\n",
    "for i,(j,k) in enumerate(sorted(director_data.items(), key= lambda item: item[1] , reverse=True)):\n",
    "    if i > 10:\n",
    "        break\n",
    "    labels.append(j)\n",
    "    vals.append(k)"
   ]
  },
  {
   "cell_type": "markdown",
   "metadata": {},
   "source": [
    "## The Top 10 Directors with highest No. of Movies in Top 250"
   ]
  },
  {
   "cell_type": "code",
   "execution_count": 24,
   "metadata": {},
   "outputs": [
    {
     "data": {
      "image/png": "[encoded data removed]",
      "text/plain": [
       "<Figure size 576x576 with 1 Axes>"
      ]
     },
     "metadata": {},
     "output_type": "display_data"
    }
   ],
   "source": [
    "def func(pct, allvals):\n",
    "    absolute = int(pct/100.*np.sum(allvals))\n",
    "    return \"{:d}\".format(absolute)\n",
    "\n",
    "explode = (0.2, 0.2, 0.2, 0.2, 0, 0, 0, 0, 0,0,0)  # only \"explode\" the Top slices\n",
    "\n",
    "fig1, ax1 = plt.subplots(figsize=(8,8))\n",
    "ax1.pie(vals, labels=labels, explode=explode, autopct=lambda pct: func(pct, vals),\n",
    "        shadow=True, startangle=90)\n",
    "ax1.axis('equal')  # Equal aspect ratio ensures that pie is drawn as a circle.\n",
    "\n",
    "plt.show()"
   ]
  },
  {
   "cell_type": "code",
   "execution_count": 25,
   "metadata": {},
   "outputs": [
    {
     "data": {
      "text/plain": [
       "0                             Drama\n",
       "1                      Crime, Drama\n",
       "2                      Crime, Drama\n",
       "3    Action, Crime, Drama, Thriller\n",
       "4                      Crime, Drama\n",
       "Name: genre, dtype: object"
      ]
     },
     "execution_count": 25,
     "metadata": {},
     "output_type": "execute_result"
    }
   ],
   "source": [
    "gen = df.iloc[:,8]\n",
    "\n",
    "gen.head()"
   ]
  },
  {
   "cell_type": "code",
   "execution_count": 26,
   "metadata": {},
   "outputs": [],
   "source": [
    "gen = ', '.join(gen)\n",
    "\n",
    "gen = gen.split(', ')     # Form a single list of all genres"
   ]
  },
  {
   "cell_type": "code",
   "execution_count": 27,
   "metadata": {},
   "outputs": [],
   "source": [
    "genre_data = {}\n",
    "\n",
    "for g in gen:\n",
    "    try:\n",
    "        genre_data[g] += 1\n",
    "    except:\n",
    "        genre_data[g] = 1"
   ]
  },
  {
   "cell_type": "code",
   "execution_count": 28,
   "metadata": {},
   "outputs": [],
   "source": [
    "labels = []\n",
    "vals = []\n",
    "\n",
    "for i,(j,k) in enumerate(sorted(genre_data.items(), key= lambda item: item[1] , reverse=True)):\n",
    "    if i > 10:\n",
    "        break\n",
    "    labels.append(j)\n",
    "    vals.append(k)"
   ]
  },
  {
   "cell_type": "markdown",
   "metadata": {},
   "source": [
    "## The Distribution of Genres in Top 250 movies"
   ]
  },
  {
   "cell_type": "code",
   "execution_count": 29,
   "metadata": {},
   "outputs": [
    {
     "data": {
      "image/png": "[encoded data removed]",
      "text/plain": [
       "<Figure size 576x576 with 1 Axes>"
      ]
     },
     "metadata": {},
     "output_type": "display_data"
    }
   ],
   "source": [
    "explode = (0.2, 0, 0, 0, 0, 0, 0, 0, 0,0,0)  # only \"explode\" the Top slice\n",
    "\n",
    "fig1, ax1 = plt.subplots(figsize=(8,8))\n",
    "ax1.pie(vals, labels=labels, explode=explode, autopct=lambda pct: func(pct, vals),\n",
    "        shadow=True, startangle=90)\n",
    "ax1.axis('equal')  # Equal aspect ratio ensures that pie is drawn as a circle.\n",
    "\n",
    "plt.show()"
   ]
  },
  {
   "cell_type": "code",
   "execution_count": null,
   "metadata": {},
   "outputs": [],
   "source": []
  }
 ],
 "metadata": {
  "kernelspec": {
   "display_name": "Python 3",
   "language": "python",
   "name": "python3"
  },
  "language_info": {
   "codemirror_mode": {
    "name": "ipython",
    "version": 3
   },
   "file_extension": ".py",
   "mimetype": "text/x-python",
   "name": "python",
   "nbconvert_exporter": "python",
   "pygments_lexer": "ipython3",
   "version": "3.7.3"
  }
 },
 "nbformat": 4,
 "nbformat_minor": 2
}
